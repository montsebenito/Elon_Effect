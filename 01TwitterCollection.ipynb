{
 "cells": [
  {
   "cell_type": "code",
   "execution_count": 1,
   "metadata": {},
   "outputs": [],
   "source": [
    "#import sys\n",
    "#!{sys.executable} -m pip install -r requirements.txt\n",
    "#print(python.__version__)\n",
    "#from platform import python_version\n",
    "#python_version()"
   ]
  },
  {
   "cell_type": "code",
   "execution_count": 2,
   "metadata": {},
   "outputs": [],
   "source": [
    "import tweepy\n",
    "import pandas as pd\n",
    "import numpy as np\n",
    "import json\n",
    "import csv\n",
    "import configparser"
   ]
  },
  {
   "cell_type": "code",
   "execution_count": 3,
   "metadata": {},
   "outputs": [],
   "source": [
    "# read configs\n",
    "config = configparser.ConfigParser()\n",
    "config.read('config.ini')\n",
    "\n",
    "api_key = config['twitter']['api_key']\n",
    "api_key_secret = config['twitter']['api_key_secret']\n",
    "\n",
    "access_token = config['twitter']['access_token']\n",
    "access_token_secret = config['twitter']['access_token_secret']\n"
   ]
  },
  {
   "cell_type": "code",
   "execution_count": 22,
   "metadata": {},
   "outputs": [
    {
     "name": "stdout",
     "output_type": "stream",
     "text": [
      "2022-02-12 20:20:56+00:00 2022-02-14 23:29:36+00:00\n"
     ]
    }
   ],
   "source": [
    "# authentication\n",
    "auth = tweepy.OAuthHandler(api_key, api_key_secret)\n",
    "auth.set_access_token(access_token, access_token_secret)\n",
    "api = tweepy.API(auth)\n",
    "\n",
    "user='elonmusk'\n",
    "limit=5000\n",
    "\n",
    "tweeteo=[]\n",
    "likes=[]\n",
    "time = []\n",
    "for tuit in tweepy.Cursor(api.user_timeline, screen_name=user, count=2000).items(limit):\n",
    "    time.append(tuit.created_at)\n",
    "    likes.append(tuit.favorite_count)\n",
    "    #tweeteo.append(tuit.user.text)\n",
    "    \n",
    "time=pd.to_datetime(time)   \n",
    "print(time.min(), time.max())"
   ]
  },
  {
   "cell_type": "code",
   "execution_count": 12,
   "metadata": {},
   "outputs": [
    {
     "data": {
      "text/plain": [
       "(21, 3)"
      ]
     },
     "execution_count": 12,
     "metadata": {},
     "output_type": "execute_result"
    }
   ],
   "source": [
    "df.shape"
   ]
  },
  {
   "cell_type": "code",
   "execution_count": 13,
   "metadata": {},
   "outputs": [
    {
     "name": "stdout",
     "output_type": "stream",
     "text": [
      "getting tweets before 1492594591949799426\n",
      "...221 tweets downloaded so far\n",
      "getting tweets before 1484454651563069442\n",
      "...221 tweets downloaded so far\n",
      "elonmusk_tweets.csv was successfully created.\n"
     ]
    }
   ],
   "source": [
    "get_all_tweets(\"elonmusk\")"
   ]
  },
  {
   "cell_type": "code",
   "execution_count": 6,
   "metadata": {},
   "outputs": [
    {
     "name": "stdout",
     "output_type": "stream",
     "text": [
      "(221, 3)\n"
     ]
    }
   ],
   "source": [
    "musk_tweets=pd.read_csv('elonmusk_tweets.csv')\n",
    "#new_musk_tweets=pd.read_csv('new_elonmusk_tweets.csv')\n",
    "print(musk_tweets.shape)"
   ]
  },
  {
   "cell_type": "code",
   "execution_count": 7,
   "metadata": {},
   "outputs": [
    {
     "name": "stdout",
     "output_type": "stream",
     "text": [
      "2022-01-21 09:15:43+00:00 2022-02-14 23:29:36+00:00\n"
     ]
    }
   ],
   "source": [
    "print(musk_tweets.created_at.min(), musk_tweets.created_at.max())\n",
    "#print(new_musk_tweets.created_at.min(), new_musk_tweets.created_at.max())"
   ]
  },
  {
   "cell_type": "code",
   "execution_count": 8,
   "metadata": {},
   "outputs": [
    {
     "data": {
      "text/plain": [
       "'2021-12-07 21:53:00+00:00'"
      ]
     },
     "execution_count": 8,
     "metadata": {},
     "output_type": "execute_result"
    }
   ],
   "source": [
    "last600=pd.read_csv('data/last_elonmusk_tweets.csv')\n",
    "last600.created_at.min()"
   ]
  },
  {
   "cell_type": "code",
   "execution_count": null,
   "metadata": {},
   "outputs": [],
   "source": []
  }
 ],
 "metadata": {
  "kernelspec": {
   "display_name": "Python 3",
   "language": "python",
   "name": "python3"
  },
  "language_info": {
   "codemirror_mode": {
    "name": "ipython",
    "version": 3
   },
   "file_extension": ".py",
   "mimetype": "text/x-python",
   "name": "python",
   "nbconvert_exporter": "python",
   "pygments_lexer": "ipython3",
   "version": "3.8.5"
  }
 },
 "nbformat": 4,
 "nbformat_minor": 4
}
